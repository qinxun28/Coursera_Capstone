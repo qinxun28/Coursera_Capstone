{
    "cells": [
        {
            "cell_type": "markdown",
            "metadata": {},
            "source": "## I. Introduction: Business Problem"
        },
        {
            "cell_type": "markdown",
            "metadata": {},
            "source": "Toronto is the provincial capital of Ontario, the most populous city in Canada, and the fourth largest populous city in North America, with a population of 2,731,571 as of 2016. Current to 2016, the Toronto census metropolitan area (CMA), of which the majority is within the Greater Toronto Area (GTA), held a population of 5,928,040, making it Canada's most populous CMA. The city is the anchor of the Golden Horseshoe, an urban agglomeration of 9,245,438 people (as of 2016) surrounding the western end of Lake Ontario. Toronto is an international centre of business, finance, arts, and culture, and is recognized as one of the most multicultural and cosmopolitan cities in the world.\n\nThe aim of this project is to recommend suitable neighborhoods for new start-up entrepreneurs entering the business world in Toronto, Ontario, Canada. Specifically, this report will be targeted to users who want to set up a new business with close proximity to places of interest or search category option. The recommendation should not only present the most viable option, but also present a comparison table of all possible venues.\n\nI will make use of my acquired data science skills to generate a few most promising neighborhoods based on this criteria. Advantages of each area will then be clearly expressed so that best possible final location can be chosen by the users."
        },
        {
            "cell_type": "markdown",
            "metadata": {},
            "source": "## II. Data"
        },
        {
            "cell_type": "markdown",
            "metadata": {
                "collapsed": true
            },
            "source": "This project will acquire information from the following data sources:"
        },
        {
            "cell_type": "markdown",
            "metadata": {},
            "source": "<b> Toronto Neighborhoods Location Data"
        },
        {
            "cell_type": "markdown",
            "metadata": {},
            "source": "Coordinates of the candidate areas will be generated algorithmically and approximate addresses of centers of those areas will be obtained using Google Maps API geocoding."
        },
        {
            "cell_type": "markdown",
            "metadata": {},
            "source": "<b> Toronto Top Venue Recommendations"
        },
        {
            "cell_type": "markdown",
            "metadata": {},
            "source": "I will be using Foursquare API to explore neighborhoods in Toronto, Canada. The Foursquare API Explore function will be utilized to obtain the most common venue categories in each neighborhood, and then use this feature to group the neighborhoods into clusters. I will use the k-means clustering algorithm to complete this task. Finally, I will use the Folium library to visualize the neighborhoods in Toronto and their emerging clusters."
        }
    ],
    "metadata": {
        "kernelspec": {
            "display_name": "Python 3.6",
            "language": "python",
            "name": "python3"
        },
        "language_info": {
            "codemirror_mode": {
                "name": "ipython",
                "version": 3
            },
            "file_extension": ".py",
            "mimetype": "text/x-python",
            "name": "python",
            "nbconvert_exporter": "python",
            "pygments_lexer": "ipython3",
            "version": "3.6.8"
        }
    },
    "nbformat": 4,
    "nbformat_minor": 1
}