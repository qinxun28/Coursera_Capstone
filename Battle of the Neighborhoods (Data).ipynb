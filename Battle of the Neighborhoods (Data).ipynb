{
    "cells": [
        {
            "cell_type": "markdown",
            "metadata": {},
            "source": "## II. Data"
        },
        {
            "cell_type": "markdown",
            "metadata": {
                "collapsed": true
            },
            "source": "This project will acquire information from the following data sources:"
        },
        {
            "cell_type": "markdown",
            "metadata": {},
            "source": "<b> Toronto Neighborhoods Location Data"
        },
        {
            "cell_type": "markdown",
            "metadata": {},
            "source": "Coordinates of the candidate areas will be generated algorithmically and approximate addresses of centers of those areas will be obtained using Google Maps API geocoding."
        },
        {
            "cell_type": "markdown",
            "metadata": {},
            "source": "<b> Toronto Top Venue Recommendations"
        },
        {
            "cell_type": "markdown",
            "metadata": {},
            "source": "I will be using Foursquare API to explore neighborhoods in Toronto, Canada. The Foursquare API Explore function will be utilized to obtain the most common venue categories in each neighborhood, and then use this feature to group the neighborhoods into clusters. I will use the k-means clustering algorithm to complete this task. Finally, I will use the Folium library to visualize the neighborhoods in Toronto and their emerging clusters."
        }
    ],
    "metadata": {
        "kernelspec": {
            "display_name": "Python 3.6",
            "language": "python",
            "name": "python3"
        },
        "language_info": {
            "codemirror_mode": {
                "name": "ipython",
                "version": 3
            },
            "file_extension": ".py",
            "mimetype": "text/x-python",
            "name": "python",
            "nbconvert_exporter": "python",
            "pygments_lexer": "ipython3",
            "version": "3.6.8"
        }
    },
    "nbformat": 4,
    "nbformat_minor": 1
}